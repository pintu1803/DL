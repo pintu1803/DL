{
  "nbformat": 4,
  "nbformat_minor": 0,
  "metadata": {
    "colab": {
      "name": "1_Face_mask_detector.ipynb",
      "provenance": [],
      "authorship_tag": "ABX9TyMoFQT5dkFDWOK0El3cd11d",
      "include_colab_link": true
    },
    "kernelspec": {
      "name": "python3",
      "display_name": "Python 3"
    },
    "language_info": {
      "name": "python"
    }
  },
  "cells": [
    {
      "cell_type": "markdown",
      "metadata": {
        "id": "view-in-github",
        "colab_type": "text"
      },
      "source": [
        "<a href=\"https://colab.research.google.com/github/pintu1803/DL/blob/main/1_Face_mask_detector.ipynb\" target=\"_parent\"><img src=\"https://colab.research.google.com/assets/colab-badge.svg\" alt=\"Open In Colab\"/></a>"
      ]
    },
    {
      "cell_type": "markdown",
      "metadata": {
        "id": "Ao4FX_nBErBj"
      },
      "source": [
        "Face Mask Detection using opencv, keras, tensorflow, numpy."
      ]
    },
    {
      "cell_type": "code",
      "metadata": {
        "colab": {
          "base_uri": "https://localhost:8080/"
        },
        "id": "o_rzCITCE2v3",
        "outputId": "3432ddce-1d40-458d-eec7-34eb3f6a377a"
      },
      "source": [
        "from google.colab import drive\n",
        "drive.mount('/content/drive')"
      ],
      "execution_count": 1,
      "outputs": [
        {
          "output_type": "stream",
          "text": [
            "Mounted at /content/drive\n"
          ],
          "name": "stdout"
        }
      ]
    },
    {
      "cell_type": "code",
      "metadata": {
        "colab": {
          "base_uri": "https://localhost:8080/"
        },
        "id": "jTBltcExEijj",
        "outputId": "5e6cbe55-b5d8-425d-c7a3-99a7eecbef9b"
      },
      "source": [
        "pip install opencv-python==3.4.2.17"
      ],
      "execution_count": 3,
      "outputs": [
        {
          "output_type": "stream",
          "text": [
            "Collecting opencv-python==3.4.2.17\n",
            "\u001b[?25l  Downloading https://files.pythonhosted.org/packages/8f/8f/a5d2fa3a3309c4e4aa28eb989d81a95b57c63406b4d439758a1a0a810c77/opencv_python-3.4.2.17-cp37-cp37m-manylinux1_x86_64.whl (25.0MB)\n",
            "\u001b[K     |████████████████████████████████| 25.0MB 1.5MB/s \n",
            "\u001b[?25hRequirement already satisfied: numpy>=1.14.5 in /usr/local/lib/python3.7/dist-packages (from opencv-python==3.4.2.17) (1.19.5)\n",
            "\u001b[31mERROR: albumentations 0.1.12 has requirement imgaug<0.2.7,>=0.2.5, but you'll have imgaug 0.2.9 which is incompatible.\u001b[0m\n",
            "Installing collected packages: opencv-python\n",
            "  Found existing installation: opencv-python 4.1.2.30\n",
            "    Uninstalling opencv-python-4.1.2.30:\n",
            "      Successfully uninstalled opencv-python-4.1.2.30\n",
            "Successfully installed opencv-python-3.4.2.17\n"
          ],
          "name": "stdout"
        }
      ]
    },
    {
      "cell_type": "code",
      "metadata": {
        "colab": {
          "base_uri": "https://localhost:8080/"
        },
        "id": "25Ny-bnpFaKp",
        "outputId": "a1a73d5a-0d52-47a1-f1f6-21beaa38bfe6"
      },
      "source": [
        "\n",
        "\n",
        "#Pintu, 181CO139\n",
        "#29-03-2021\n",
        "#Objective: Face mask detector using cnn.\n",
        "#this is 1st program.\n",
        "\n",
        "import cv2, os\n",
        "\n",
        "data_path='/content/drive/MyDrive/Face_Mask_Detector_1/dataset'\n",
        "#extract the names of folder inside dataset folder.\n",
        "categories=os.listdir(data_path)\n",
        "labels=[i for i in range(len(categories))]\n",
        "label_dict=dict(zip(categories, labels))\n",
        "#print them.\n",
        "print(categories)\n",
        "print(labels)\n",
        "print(label_dict)\n",
        "\n",
        "#we want to create two lists, each for image and label.\n",
        "img_size=100\n",
        "data=[]\n",
        "target=[]\n",
        "for category in categories:\n",
        "    folder_path=os.path.join(data_path, category)\n",
        "    img_names=os.listdir(folder_path)\n",
        "\n",
        "    for img_name in img_names:\n",
        "        img_path=os.path.join(folder_path,img_name)\n",
        "        img=cv2.imread(img_path)\n",
        "        try:\n",
        "            gray=cv2.cvtColor(img, cv2.COLOR_BGR2GRAY)\n",
        "            resized=cv2.resize(gray, (img_size,img_size))\n",
        "            data.append(resized)\n",
        "            target.append(label_dict[category])\n",
        "        except Exception as e:\n",
        "            print(\"Exception:\",e)\n",
        "\n",
        "#convert the images in array.\n",
        "import numpy as np\n",
        "#normalize the pixel values in range[0-1]\n",
        "#data type: list->ndarray\n",
        "data=np.array(data)/255.0\n",
        "data=np.reshape(data, (data.shape[0], img_size, img_size, 1))\n",
        "#target type: list->ndarray\n",
        "target=np.array(target)\n",
        "\n",
        "#convert target values in categorical format.\n",
        "from keras.utils import np_utils\n",
        "new_target=np_utils.to_categorical(target)\n",
        "# print(target[0], new_target[0],type(new_target))\n",
        "np.save('data', data)\n",
        "np.save('target', new_target)\n",
        "\n"
      ],
      "execution_count": 4,
      "outputs": [
        {
          "output_type": "stream",
          "text": [
            "['with_mask', 'without_mask']\n",
            "[0, 1]\n",
            "{'with_mask': 0, 'without_mask': 1}\n"
          ],
          "name": "stdout"
        }
      ]
    },
    {
      "cell_type": "code",
      "metadata": {
        "colab": {
          "base_uri": "https://localhost:8080/",
          "height": 1000
        },
        "id": "ZAHdpG8FFvDy",
        "outputId": "659d63e1-2f62-4e56-d3ea-c6180bfae94b"
      },
      "source": [
        "\n",
        "\n",
        "#Pintu, 181CO139\n",
        "#29-03-2021\n",
        "#Objective: Face mask detector using cnn.\n",
        "#this is 2nd program.\n",
        "\n",
        "import numpy as np\n",
        "from sklearn.model_selection import train_test_split\n",
        "from keras.models import Sequential\n",
        "from keras.layers import Conv2D, MaxPooling2D, Flatten, Dense, Dropout\n",
        "from keras.callbacks import ModelCheckpoint\n",
        "import matplotlib.pyplot as plt\n",
        "\n",
        "#load the saved data and split it.\n",
        "data=np.load('/content/data.npy')\n",
        "target=np.load('/content/target.npy')\n",
        "x_train, x_test, y_train, y_test = train_test_split(data, target, test_size=0.1) #other parameters can be passed.\n",
        "\n",
        "#create the model\n",
        "model=Sequential()\n",
        "model.add(Conv2D(200, (3,3), input_shape=data.shape[1:], activation='relu'))\n",
        "model.add(MaxPooling2D((2,2)))\n",
        "#first cnn layer.\n",
        "model.add(Conv2D(100, (3,3), activation='relu'))\n",
        "model.add(MaxPooling2D((2,2)))\n",
        "#second cnn layer.\n",
        "model.add(Flatten())\n",
        "model.add(Dropout(0.5))\n",
        "model.add(Dense(50, activation='relu'))\n",
        "model.add(Dense(2, activation='softmax'))\n",
        "\n",
        "#compiling the model.\n",
        "model.compile(loss='categorical_crossentropy', optimizer='adam', metrics=['accuracy'])\n",
        "\n",
        "#checkpoint\n",
        "checkpoint=ModelCheckpoint('model-{epoch:03d}.model', monitor='val_loss', verbose=0, save_best_only=True, mode='auto')\n",
        "\n",
        "#train the model.\n",
        "history=model.fit(x_train, y_train, epochs=15, callbacks=[checkpoint], validation_split=0.25)\n",
        "\n",
        "#plot the training and validation loss.\n",
        "plt.plot(history.history['loss'], 'r', label='Training loss')\n",
        "plt.plot(history.history['val_loss'], 'b', label='Validation loss')\n",
        "plt.xlabel('#Epochs')\n",
        "plt.ylabel('Loss')\n",
        "plt.legend()\n",
        "plt.show()\n",
        "\n",
        "#plot the training and validation accuracy.\n",
        "plt.plot(history.history['accuracy'], 'r', label='Training accuracy')\n",
        "plt.plot(history.history['val_accuracy'], 'b', label='Validation accuracy')\n",
        "plt.xlabel('#Epochs')\n",
        "plt.ylabel('Loss')\n",
        "plt.legend()\n",
        "plt.show()\n",
        "\n",
        "#evaluate the model.\n",
        "print(model.evaluate(x_test, y_test))\n"
      ],
      "execution_count": 5,
      "outputs": [
        {
          "output_type": "stream",
          "text": [
            "Epoch 1/15\n",
            "28/28 [==============================] - 64s 2s/step - loss: 0.7311 - accuracy: 0.5388 - val_loss: 0.6561 - val_accuracy: 0.5372\n",
            "INFO:tensorflow:Assets written to: model-001.model/assets\n",
            "Epoch 2/15\n",
            "28/28 [==============================] - 62s 2s/step - loss: 0.6325 - accuracy: 0.6092 - val_loss: 0.5679 - val_accuracy: 0.7331\n",
            "INFO:tensorflow:Assets written to: model-002.model/assets\n",
            "Epoch 3/15\n",
            "28/28 [==============================] - 62s 2s/step - loss: 0.4796 - accuracy: 0.8054 - val_loss: 0.4265 - val_accuracy: 0.8176\n",
            "INFO:tensorflow:Assets written to: model-003.model/assets\n",
            "Epoch 4/15\n",
            "28/28 [==============================] - 62s 2s/step - loss: 0.3516 - accuracy: 0.8581 - val_loss: 0.3149 - val_accuracy: 0.8818\n",
            "INFO:tensorflow:Assets written to: model-004.model/assets\n",
            "Epoch 5/15\n",
            "28/28 [==============================] - 62s 2s/step - loss: 0.2315 - accuracy: 0.9083 - val_loss: 0.2769 - val_accuracy: 0.9088\n",
            "INFO:tensorflow:Assets written to: model-005.model/assets\n",
            "Epoch 6/15\n",
            "28/28 [==============================] - 62s 2s/step - loss: 0.1798 - accuracy: 0.9393 - val_loss: 0.2656 - val_accuracy: 0.9054\n",
            "INFO:tensorflow:Assets written to: model-006.model/assets\n",
            "Epoch 7/15\n",
            "28/28 [==============================] - 62s 2s/step - loss: 0.1530 - accuracy: 0.9328 - val_loss: 0.2689 - val_accuracy: 0.8986\n",
            "Epoch 8/15\n",
            "28/28 [==============================] - 62s 2s/step - loss: 0.1081 - accuracy: 0.9609 - val_loss: 0.2772 - val_accuracy: 0.8919\n",
            "Epoch 9/15\n",
            "28/28 [==============================] - 62s 2s/step - loss: 0.0807 - accuracy: 0.9733 - val_loss: 0.2644 - val_accuracy: 0.9054\n",
            "INFO:tensorflow:Assets written to: model-009.model/assets\n",
            "Epoch 10/15\n",
            "28/28 [==============================] - 66s 2s/step - loss: 0.0626 - accuracy: 0.9798 - val_loss: 0.3211 - val_accuracy: 0.9054\n",
            "Epoch 11/15\n",
            "28/28 [==============================] - 63s 2s/step - loss: 0.0637 - accuracy: 0.9753 - val_loss: 0.3269 - val_accuracy: 0.9020\n",
            "Epoch 12/15\n",
            "28/28 [==============================] - 63s 2s/step - loss: 0.0422 - accuracy: 0.9901 - val_loss: 0.3336 - val_accuracy: 0.8953\n",
            "Epoch 13/15\n",
            "28/28 [==============================] - 63s 2s/step - loss: 0.0593 - accuracy: 0.9820 - val_loss: 0.2981 - val_accuracy: 0.8919\n",
            "Epoch 14/15\n",
            "28/28 [==============================] - 63s 2s/step - loss: 0.0451 - accuracy: 0.9900 - val_loss: 0.4560 - val_accuracy: 0.8784\n",
            "Epoch 15/15\n",
            "28/28 [==============================] - 63s 2s/step - loss: 0.0979 - accuracy: 0.9643 - val_loss: 0.3832 - val_accuracy: 0.9020\n"
          ],
          "name": "stdout"
        },
        {
          "output_type": "display_data",
          "data": {
            "image/png": "[encoded data removed]",
            "text/plain": [
              "<Figure size 432x288 with 1 Axes>"
            ]
          },
          "metadata": {
            "tags": [],
            "needs_background": "light"
          }
        },
        {
          "output_type": "display_data",
          "data": {
            "image/png": "[encoded data removed]",
            "text/plain": [
              "<Figure size 432x288 with 1 Axes>"
            ]
          },
          "metadata": {
            "tags": [],
            "needs_background": "light"
          }
        },
        {
          "output_type": "stream",
          "text": [
            "5/5 [==============================] - 2s 449ms/step - loss: 0.3403 - accuracy: 0.8864\n",
            "[0.3403197228908539, 0.8863636255264282]\n"
          ],
          "name": "stdout"
        }
      ]
    },
    {
      "cell_type": "code",
      "metadata": {
        "colab": {
          "base_uri": "https://localhost:8080/",
          "height": 134
        },
        "id": "NmHpQim4JKiv",
        "outputId": "ff03f6a2-e96a-4e91-94f0-c666f7c19d28"
      },
      "source": [
        "\n",
        "\n",
        "#Pintu, 181CO139\n",
        "#29-03-2021\n",
        "#Objective: Face mask detector using cnn.\n",
        "#this is 3rd program.\n",
        "\n",
        "from keras.models import load_model\n",
        "import cv2\n",
        "from google.colab.patches import cv2_imshow\n",
        "import numpy as np\n",
        "\n",
        "#load the model.\n",
        "model=load_model('/content/model-009.model')\n",
        "\n",
        "#WE ARE GOING TO TEST ON TWO IMAGES.\n",
        "#(1) read the image.\n",
        "img=cv2.imread('/content/drive/MyDrive/Face_Mask_Detector_1/test_photo.jpg')\n",
        "#convert rgb image into grayscale.\n",
        "img=cv2.cvtColor(img,cv2.COLOR_BGR2GRAY)\n",
        "#make it 100x100 pixel image.\n",
        "resized=cv2.resize(img, (100,100))\n",
        "#normalize the image.\n",
        "normalized=resized/255.0\n",
        "#reshape the image, to pass it to the model for testing.\n",
        "reshaped=np.reshape(normalized, (1,100,100,1))\n",
        "#prediction made by model.\n",
        "result=model.predict(reshaped)\n",
        "#find label with higher probability.\n",
        "label=np.argmax(result, axis=1)[0]\n",
        "#create the label_dictionary.\n",
        "label_dict={0: 'With_Mask', 1:'Without_Mask'}\n",
        "\n",
        "#display the image.\n",
        "cv2_imshow(resized)\n",
        "cv2.waitKey()\n",
        "#print the result.\n",
        "print(\"Result=\",label_dict[label])\n"
      ],
      "execution_count": 34,
      "outputs": [
        {
          "output_type": "display_data",
          "data": {
            "image/png": "[encoded data removed]",
            "text/plain": [
              "<PIL.Image.Image image mode=L size=100x100 at 0x7FD460247150>"
            ]
          },
          "metadata": {
            "tags": []
          }
        },
        {
          "output_type": "stream",
          "text": [
            "Result= Without_Mask\n"
          ],
          "name": "stdout"
        }
      ]
    },
    {
      "cell_type": "code",
      "metadata": {
        "colab": {
          "base_uri": "https://localhost:8080/",
          "height": 134
        },
        "id": "n9HF_qi4YHJw",
        "outputId": "a7679905-e994-4380-c244-94e9dba04a92"
      },
      "source": [
        "#(2) read the image.\n",
        "img=cv2.imread('/content/drive/MyDrive/Face_Mask_Detector_1/pintu_with_mask.jpg')\n",
        "#convert rgb image into grayscale.\n",
        "img=cv2.cvtColor(img,cv2.COLOR_BGR2GRAY)\n",
        "#make it 100x100 pixel image.\n",
        "resized=cv2.resize(img, (100,100))\n",
        "#normalize the image.\n",
        "normalized=resized/255.0\n",
        "#reshape the image, to pass it to the model for testing.\n",
        "reshaped=np.reshape(normalized, (1,100,100,1))\n",
        "#prediction made by model.\n",
        "result=model.predict(reshaped)\n",
        "#find label with higher probability.\n",
        "label=np.argmax(result, axis=1)[0]\n",
        "#create the label_dictionary.\n",
        "label_dict={0: 'With_Mask', 1:'Without_Mask'}\n",
        "\n",
        "#display the image.\n",
        "cv2_imshow(resized)\n",
        "cv2.waitKey()\n",
        "#print the result.\n",
        "print(\"Result=\",label_dict[label])"
      ],
      "execution_count": 36,
      "outputs": [
        {
          "output_type": "display_data",
          "data": {
            "image/png": "[encoded data removed]",
            "text/plain": [
              "<PIL.Image.Image image mode=L size=100x100 at 0x7FD464DBD890>"
            ]
          },
          "metadata": {
            "tags": []
          }
        },
        {
          "output_type": "stream",
          "text": [
            "Result= With_Mask\n"
          ],
          "name": "stdout"
        }
      ]
    }
  ]
}